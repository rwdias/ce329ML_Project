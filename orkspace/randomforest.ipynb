{
 "cells": [
  {
   "cell_type": "code",
   "execution_count": 1,
   "id": "2e380a69-838d-41e3-bc10-1d3d8e7ca594",
   "metadata": {
    "scrolled": true
   },
   "outputs": [
    {
     "name": "stderr",
     "output_type": "stream",
     "text": [
      "/var/folders/fm/pz8nvy810xjdk3ywmvl5_0wr0000gn/T/ipykernel_36184/2549843179.py:31: SettingWithCopyWarning: \n",
      "A value is trying to be set on a copy of a slice from a DataFrame\n",
      "\n",
      "See the caveats in the documentation: https://pandas.pydata.org/pandas-docs/stable/user_guide/indexing.html#returning-a-view-versus-a-copy\n",
      "  X.replace([np.inf, -np.inf], np.nan, inplace=True)\n"
     ]
    },
    {
     "name": "stdout",
     "output_type": "stream",
     "text": [
      "Acurácia da validação cruzada para Random Forest: 0.95 (+/- 0.01)\n"
     ]
    }
   ],
   "source": [
    "# Instalar as bibliotecas pandas e scikit-learn, caso ainda não estejam instaladas\n",
    "# !pip install pandas\n",
    "# !pip install scikit-learn\n",
    "\n",
    "import pandas as pd\n",
    "import numpy as np\n",
    "from sklearn.linear_model import LogisticRegression\n",
    "from sklearn.model_selection import cross_val_score\n",
    "from sklearn.impute import SimpleImputer\n",
    "\n",
    "# Carregar os dados\n",
    "new_df_argentina_total = pd.read_csv('new_df_argentina_ml.csv')\n",
    "# Reduzir o tamanho do dataset para 10% do original de forma aleatória para facilitar o processamento\n",
    "new_df_argentina = new_df_argentina_total.sample(frac=0.9)\n",
    "\n",
    "# Selecionar apenas as colunas de interesse\n",
    "df = new_df_argentina[['Cidade', 'ValorFOBUS', 'PesoLiquido', 'CodigoSH4']]\n",
    "\n",
    "# Excluir os alvos (targets) cujo número possa atrapalhar a validação cruzada com 5 folds\n",
    "df = df[df.groupby('Cidade')['Cidade'].transform('count') > 5].copy()\n",
    "\n",
    "# Dividir o dataframe em partes com 'Cidade' faltante e não faltante\n",
    "df_missing = df[df['Cidade'].isna()]\n",
    "df_not_missing = df.dropna(subset=['Cidade'])\n",
    "\n",
    "# Preparar os dados para treinamento\n",
    "X = df_not_missing[['ValorFOBUS', 'PesoLiquido', 'CodigoSH4']]\n",
    "y = df_not_missing['Cidade']\n",
    "\n",
    "# Verificar se há valores infinitos e substituí-los por NaN para facilitar o tratamento posterior\n",
    "X.replace([np.inf, -np.inf], np.nan, inplace=True)\n",
    "\n",
    "# Inicializar o SimpleImputer\n",
    "imputer = SimpleImputer(strategy='mean')\n",
    "\n",
    "# Verificar se X agora contém NaN (devido à substituição ou a qualquer valor faltante anterior) e, se sim, tratar esses valores\n",
    "if X.isnull().sum().sum() > 0:\n",
    "    X = imputer.fit_transform(X)\n",
    "\n",
    "from sklearn.ensemble import RandomForestClassifier\n",
    "from sklearn.model_selection import cross_val_score\n",
    "\n",
    "# Definir o modelo de Random Forest\n",
    "clf = RandomForestClassifier(n_estimators=100, random_state=42)\n",
    "\n",
    "# Realizar a validação cruzada\n",
    "scores = cross_val_score(clf, X, y, cv=5)\n",
    "\n",
    "# Imprimir os resultados da validação cruzada\n",
    "print(\"Acurácia da validação cruzada para Random Forest: %0.2f (+/- %0.2f)\" % (scores.mean(), scores.std() * 2))\n"
   ]
  },
  {
   "cell_type": "code",
   "execution_count": 3,
   "id": "b368158a",
   "metadata": {},
   "outputs": [
    {
     "name": "stdout",
     "output_type": "stream",
     "text": [
      "Precisão: 0.90\n",
      "Recall: 0.85\n"
     ]
    },
    {
     "name": "stderr",
     "output_type": "stream",
     "text": [
      "/Users/rafaeldias/anaconda3/lib/python3.10/site-packages/sklearn/metrics/_classification.py:1344: UndefinedMetricWarning: Precision is ill-defined and being set to 0.0 in labels with no predicted samples. Use `zero_division` parameter to control this behavior.\n",
      "  _warn_prf(average, modifier, msg_start, len(result))\n"
     ]
    }
   ],
   "source": [
    "from sklearn.model_selection import cross_val_predict\n",
    "from sklearn.metrics import precision_score, recall_score, confusion_matrix\n",
    "\n",
    "# Realizar a validação cruzada para obter previsões\n",
    "y_pred = cross_val_predict(clf, X, y, cv=5)\n",
    "\n",
    "# Calcular precisão e recall\n",
    "precision = precision_score(y, y_pred, average='macro')  # ou 'micro', 'weighted' dependendo da sua necessidade\n",
    "recall = recall_score(y, y_pred, average='macro')  # ou 'micro', 'weighted'\n",
    "\n",
    "print(\"Precisão: %0.2f\" % precision)\n",
    "print(\"Recall: %0.2f\" % recall)"
   ]
  },
  {
   "cell_type": "code",
   "execution_count": null,
   "id": "8f426613-e3fd-41a9-971a-283e61b2e62b",
   "metadata": {},
   "outputs": [],
   "source": [
    "# Ajustar o modelo com o conjunto de dados completo sem 'Cidade' faltante\n",
    "clf.fit(X, y)\n",
    "\n"
   ]
  },
  {
   "cell_type": "code",
   "execution_count": 39,
   "id": "e7a50844-ae0c-42d0-bda5-15fca4f1d1a4",
   "metadata": {
    "scrolled": true
   },
   "outputs": [],
   "source": [
    "# Carregar os dados\n",
    "new_df_argentina_total = pd.read_csv('new_df_argentina_ml_1.csv')\n",
    "# Caso seja necessário, amostrar um percentual dos dados poderia ser feito assim:\n",
    "# new_df_argentina_total = new_df_argentina_total1.sample(frac=0.03)\n",
    "\n",
    "# Preparar os dados em que 'Cidade' está ausente para a previsão\n",
    "X_missing_total = new_df_argentina_total[new_df_argentina_total['Cidade'].isna()][['ValorFOBUS', 'PesoLiquido', 'CodigoSH4']]\n",
    "# Substituir valores infinitos por NaN para evitar erros no processamento\n",
    "X_missing_total.replace([np.inf, -np.inf], np.nan, inplace=True)\n",
    "\n",
    "# Preencher valores ausentes em X_missing_total, caso existam\n",
    "if X_missing_total.isnull().sum().sum() > 0:\n",
    "    # Presume-se que 'imputer' seja previamente ajustado com os dados apropriados\n",
    "    X_missing_total = imputer.transform(X_missing_total)\n",
    "\n",
    "# Prever 'Cidade' para essas linhas usando o classificador 'clf'\n",
    "#  'clf' previamente treinado e adequado para a tarefa\n",
    "predicted_cities_total = clf.predict(X_missing_total)\n",
    "\n",
    "# Preencher os valores ausentes de 'Cidade' no DataFrame original\n",
    "# Assim se mantenha a integridade dos dados e se complete a informação faltante\n",
    "new_df_argentina_total.loc[new_df_argentina_total['Cidade'].isna(), 'Cidade'] = predicted_cities_total\n"
   ]
  },
  {
   "cell_type": "code",
   "execution_count": 40,
   "id": "70a2a3ce-9682-40f8-8d3e-ca186bc3a404",
   "metadata": {},
   "outputs": [
    {
     "name": "stdout",
     "output_type": "stream",
     "text": [
      "Quantidade de valores faltantes em 'Cidade' após a previsão: 0\n"
     ]
    }
   ],
   "source": [
    "# Verificar a quantidade de valores faltantes na coluna 'Cidade'\n",
    "missing_values_after = new_df_argentina_total['Cidade'].isna().sum()\n",
    "\n",
    "# Imprimir a quantidade de valores faltantes\n",
    "print(f\"Quantidade de valores faltantes em 'Cidade' após a previsão: {missing_values_after}\")\n"
   ]
  },
  {
   "cell_type": "code",
   "execution_count": 41,
   "id": "180a128f-5fd2-4b98-a693-7e53df30e138",
   "metadata": {},
   "outputs": [],
   "source": [
    "# Salvar o DataFrame em um arquivo CSV para ser usado nas proximas análises\n",
    "new_df_argentina_total.to_csv('new_df_argentina_total_with_predictions.csv', index=False)\n",
    "\n"
   ]
  },
  {
   "cell_type": "code",
   "execution_count": null,
   "id": "8699b071-ae96-444b-abcd-84d0b6acd38c",
   "metadata": {},
   "outputs": [],
   "source": []
  },
  {
   "cell_type": "code",
   "execution_count": null,
   "id": "26093593-1af5-4927-9dd6-c1c227e43ce1",
   "metadata": {},
   "outputs": [],
   "source": []
  },
  {
   "cell_type": "code",
   "execution_count": null,
   "id": "552af1ae-5697-497f-8dfa-997c9dcf5073",
   "metadata": {},
   "outputs": [],
   "source": []
  }
 ],
 "metadata": {
  "kernelspec": {
   "display_name": "Python 3 (ipykernel)",
   "language": "python",
   "name": "python3"
  },
  "language_info": {
   "codemirror_mode": {
    "name": "ipython",
    "version": 3
   },
   "file_extension": ".py",
   "mimetype": "text/x-python",
   "name": "python",
   "nbconvert_exporter": "python",
   "pygments_lexer": "ipython3",
   "version": "3.10.9"
  }
 },
 "nbformat": 4,
 "nbformat_minor": 5
}
