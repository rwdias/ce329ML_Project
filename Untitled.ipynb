{
 "cells": [
  {
   "cell_type": "markdown",
   "id": "f0726347",
   "metadata": {},
   "source": [
    "```cores_colorbrewer <- brewer.pal(8, \"Set2\")\n",
    "\n",
    "Criar o gráfico de barras ordenado com a paleta de cores em tons de Set1\n",
    "ggplot(dados, aes(x = Categoria_Gênero_ordenada, fill = Categoria_Gênero_ordenada)) +\n",
    "  geom_bar() +\n",
    "  scale_fill_manual(values = cores_colorbrewer) +  # Aplicar a paleta de cores manualmente\n",
    "  labs(title = \"Venda de Roupas por Gênero\",\n",
    "       y = \"Contagem\",\n",
    "       fill = \"Categoria de Gênero\") +  # Definir o título da legenda\n",
    "  theme(axis.text.x = element_text(angle = 45, hjust = 1),\n",
    "        legend.position = \"right\",  # Definir a posição da legenda para o lado direito\n",
    "        legend.direction = \"vertical\",\n",
    "        axis.title.x = element_blank()) +  # Remover o título do eixo X\n",
    "  scale_x_discrete(labels = NULL)  # Remover rótulos do eixo X ```"
   ]
  },
  {
   "cell_type": "code",
   "execution_count": null,
   "id": "964b01c7",
   "metadata": {},
   "outputs": [],
   "source": []
  }
 ],
 "metadata": {
  "kernelspec": {
   "display_name": "Python 3 (ipykernel)",
   "language": "python",
   "name": "python3"
  },
  "language_info": {
   "codemirror_mode": {
    "name": "ipython",
    "version": 3
   },
   "file_extension": ".py",
   "mimetype": "text/x-python",
   "name": "python",
   "nbconvert_exporter": "python",
   "pygments_lexer": "ipython3",
   "version": "3.10.9"
  }
 },
 "nbformat": 4,
 "nbformat_minor": 5
}
